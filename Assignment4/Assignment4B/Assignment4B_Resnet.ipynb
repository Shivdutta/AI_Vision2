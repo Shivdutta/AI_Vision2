{
  "nbformat": 4,
  "nbformat_minor": 0,
  "metadata": {
    "colab": {
      "name": "Assignment4B_Resnet.ipynb",
      "provenance": [],
      "collapsed_sections": [],
      "include_colab_link": true
    },
    "kernelspec": {
      "name": "python3",
      "display_name": "Python 3"
    },
    "accelerator": "GPU"
  },
  "cells": [
    {
      "cell_type": "markdown",
      "metadata": {
        "id": "view-in-github",
        "colab_type": "text"
      },
      "source": [
        "<a href=\"https://colab.research.google.com/github/Shivdutta/EIP4/blob/master/Assignment4/Assignment4B/Assignment4B_Resnet.ipynb\" target=\"_parent\"><img src=\"https://colab.research.google.com/assets/colab-badge.svg\" alt=\"Open In Colab\"/></a>"
      ]
    },
    {
      "cell_type": "code",
      "metadata": {
        "id": "BL6Y3meLh80Q",
        "colab_type": "code",
        "colab": {}
      },
      "source": [
        "#from numpy.random import seed\n",
        "#seed(1)\n",
        "from __future__ import print_function\n",
        "import keras\n",
        "from keras.layers import Dense, Conv2D, BatchNormalization, Activation , Dropout\n",
        "from keras.layers import AveragePooling2D, Input, Flatten\n",
        "from keras.optimizers import Adam\n",
        "from keras.callbacks import ModelCheckpoint, LearningRateScheduler\n",
        "from keras.callbacks import ReduceLROnPlateau\n",
        "from keras.preprocessing.image import ImageDataGenerator\n",
        "from keras.regularizers import l2\n",
        "from keras import backend as K\n",
        "from keras.models import Model\n",
        "from keras.datasets import cifar10\n",
        "import numpy as np\n",
        "import os"
      ],
      "execution_count": 0,
      "outputs": []
    },
    {
      "cell_type": "code",
      "metadata": {
        "id": "DJf4cZVRiiGN",
        "colab_type": "code",
        "colab": {}
      },
      "source": [
        "# Training parameters\n",
        "batch_size = 128  # orig paper trained all networks with batch_size=128\n",
        "epochs = 50\n",
        "data_augmentation = True\n",
        "num_classes = 10\n",
        "\n",
        "subtract_pixel_mean = True\n",
        "# n = 2"
      ],
      "execution_count": 0,
      "outputs": []
    },
    {
      "cell_type": "code",
      "metadata": {
        "id": "d3eoek7jiGPb",
        "colab_type": "code",
        "colab": {}
      },
      "source": [
        "# Model parameter\n",
        "# ----------------------------------------------------------------------------\n",
        "#           |      | 200-epoch | Orig Paper| 200-epoch | Orig Paper| sec/epoch\n",
        "# Model     |  n   | ResNet v1 | ResNet v1 | ResNet v2 | ResNet v2 | GTX1080Ti\n",
        "#           |v1(v2)| %Accuracy | %Accuracy | %Accuracy | %Accuracy | v1 (v2)\n",
        "# ----------------------------------------------------------------------------\n",
        "# ResNet20  | 3 (2)| 92.16     | 91.25     | -----     | -----     | 35 (---)\n",
        "# ResNet32  | 5(NA)| 92.46     | 92.49     | NA        | NA        | 50 ( NA)\n",
        "# ResNet44  | 7(NA)| 92.50     | 92.83     | NA        | NA        | 70 ( NA)\n",
        "# ResNet56  | 9 (6)| 92.71     | 93.03     | 93.01     | NA        | 90 (100)\n",
        "# ResNet110 |18(12)| 92.65     | 93.39+-.16| 93.15     | 93.63     | 165(180)\n",
        "# ResNet164 |27(18)| -----     | 94.07     | -----     | 94.54     | ---(---)\n",
        "# ResNet1001| (111)| -----     | 92.39     | -----     | 95.08+-.14| ---(---)\n",
        "# ---------------------------------------------------------------------------"
      ],
      "execution_count": 0,
      "outputs": []
    },
    {
      "cell_type": "code",
      "metadata": {
        "id": "SSwp5UEBk4bT",
        "colab_type": "code",
        "outputId": "f6e4dba6-49f8-4538-f82f-078c4bc25013",
        "colab": {
          "base_uri": "https://localhost:8080/",
          "height": 34
        }
      },
      "source": [
        "# Model version\n",
        "# Orig paper: version = 1 (ResNet v1), Improved ResNet: version = 2 (ResNet v2)\n",
        "version = 2\n",
        "depth = 20 \n",
        "\n",
        "# Model name, depth and version\n",
        "model_type = 'ResNet%dv%d' % (depth, version)\n",
        "\n",
        "print(model_type)"
      ],
      "execution_count": 7,
      "outputs": [
        {
          "output_type": "stream",
          "text": [
            "ResNet20v2\n"
          ],
          "name": "stdout"
        }
      ]
    },
    {
      "cell_type": "code",
      "metadata": {
        "id": "ZuXcM6UFk6Lz",
        "colab_type": "code",
        "outputId": "8753cf96-459c-4636-eb98-9edc61e80903",
        "colab": {
          "base_uri": "https://localhost:8080/",
          "height": 118
        }
      },
      "source": [
        "# Load the CIFAR10 data.\n",
        "(x_train, y_train), (x_test, y_test) = cifar10.load_data()\n",
        "\n",
        "# Input image dimensions.\n",
        "input_shape = x_train.shape[1:]\n",
        "\n",
        "# Normalize data.\n",
        "x_train = x_train.astype('float32') / 255\n",
        "x_test = x_test.astype('float32') / 255\n",
        "\n",
        "# If subtract pixel mean is enabled\n",
        "if subtract_pixel_mean:\n",
        "    x_train_mean = np.mean(x_train, axis=0)\n",
        "    x_train -= x_train_mean\n",
        "    x_test -= x_train_mean\n",
        "\n",
        "print('x_train shape:', x_train.shape)\n",
        "print(x_train.shape[0], 'train samples')\n",
        "print(x_test.shape[0], 'test samples')\n",
        "print('y_train shape:', y_train.shape)\n",
        "\n",
        "# Convert class vectors to binary class matrices.\n",
        "y_train = keras.utils.to_categorical(y_train, num_classes)\n",
        "y_test = keras.utils.to_categorical(y_test, num_classes)"
      ],
      "execution_count": 8,
      "outputs": [
        {
          "output_type": "stream",
          "text": [
            "Downloading data from https://www.cs.toronto.edu/~kriz/cifar-10-python.tar.gz\n",
            "170500096/170498071 [==============================] - 13s 0us/step\n",
            "x_train shape: (50000, 32, 32, 3)\n",
            "50000 train samples\n",
            "10000 test samples\n",
            "y_train shape: (50000, 1)\n"
          ],
          "name": "stdout"
        }
      ]
    },
    {
      "cell_type": "code",
      "metadata": {
        "id": "WxN6QkFrlL-6",
        "colab_type": "code",
        "colab": {}
      },
      "source": [
        "def lr_schedule(epoch):\n",
        "    \"\"\"Learning Rate Schedule\n",
        "\n",
        "    Learning rate is scheduled to be reduced after 80, 120, 160, 180 epochs.\n",
        "    Called automatically every epoch as part of callbacks during training.\n",
        "\n",
        "    # Arguments\n",
        "        epoch (int): The number of epochs\n",
        "\n",
        "    # Returns\n",
        "        lr (float32): learning rate\n",
        "    \"\"\"\n",
        "    lr = 1e-3\n",
        "    if epoch > 10:\n",
        "        lr *= 1e-1\n",
        "    elif epoch > 25:\n",
        "        lr *= 1e-2\n",
        "    elif epoch > 35:\n",
        "        lr *= 1e-1\n",
        "    \n",
        "    # if epoch > 40:\n",
        "    #     lr *= 0.5e-3\n",
        "    # elif epoch > 30:\n",
        "    #     lr *= 1e-3\n",
        "    # elif epoch > 20:\n",
        "    #     lr *= 1e-2\n",
        "    # elif epoch > 10:\n",
        "    #     lr *= 1e-1\n",
        "    print('Learning rate: ', lr)\n",
        "    return lr"
      ],
      "execution_count": 0,
      "outputs": []
    },
    {
      "cell_type": "code",
      "metadata": {
        "id": "Z0ThLqpflZsZ",
        "colab_type": "code",
        "colab": {}
      },
      "source": [
        "def resnet_layer(inputs,\n",
        "                 num_filters=64,\n",
        "                 kernel_size=3,\n",
        "                 strides=1,\n",
        "                 activation='relu',\n",
        "                 batch_normalization=True,\n",
        "                 conv_first=True):\n",
        "    \"\"\"2D Convolution-Batch Normalization-Activation stack builder\n",
        "\n",
        "    # Arguments\n",
        "        inputs (tensor): input tensor from input image or previous layer\n",
        "        num_filters (int): Conv2D number of filters\n",
        "        kernel_size (int): Conv2D square kernel dimensions\n",
        "        strides (int): Conv2D square stride dimensions\n",
        "        activation (string): activation name\n",
        "        batch_normalization (bool): whether to include batch normalization\n",
        "        conv_first (bool): conv-bn-activation (True) or\n",
        "            bn-activation-conv (False)\n",
        "\n",
        "    # Returns\n",
        "        x (tensor): tensor as input to the next layer\n",
        "    \"\"\"\n",
        "    conv = Conv2D(num_filters,\n",
        "                  kernel_size=kernel_size,\n",
        "                  strides=strides,\n",
        "                  padding='same',\n",
        "                  kernel_initializer='he_normal',\n",
        "                  kernel_regularizer=l2(1e-4))\n",
        "\n",
        "    x = inputs\n",
        "    if conv_first:\n",
        "        x = conv(x)\n",
        "        if batch_normalization:\n",
        "            x = BatchNormalization()(x)\n",
        "        if activation is not None:\n",
        "            x = Activation(activation)(x)\n",
        "    else:\n",
        "        if batch_normalization:\n",
        "            x = BatchNormalization()(x)\n",
        "        if activation is not None:\n",
        "            x = Activation(activation)(x)\n",
        "        x = conv(x)\n",
        "    return x"
      ],
      "execution_count": 0,
      "outputs": []
    },
    {
      "cell_type": "code",
      "metadata": {
        "id": "ZuQlJCnklbZp",
        "colab_type": "code",
        "colab": {}
      },
      "source": [
        "def resnet_v1(input_shape, depth, num_classes=10):\n",
        "    \"\"\"ResNet Version 1 Model builder [a]\n",
        "\n",
        "    Stacks of 2 x (3 x 3) Conv2D-BN-ReLU\n",
        "    Last ReLU is after the shortcut connection.\n",
        "    At the beginning of each stage, the feature map size is halved (downsampled)\n",
        "    by a convolutional layer with strides=2, while the number of filters is\n",
        "    doubled. Within each stage, the layers have the same number filters and the\n",
        "    same number of filters.\n",
        "    Features maps sizes:\n",
        "    stage 0: 32x32, 16\n",
        "    stage 1: 16x16, 32\n",
        "    stage 2:  8x8,  64\n",
        "    The Number of parameters is approx the same as Table 6 of [a]:\n",
        "    ResNet20 0.27M\n",
        "    ResNet32 0.46M\n",
        "    ResNet44 0.66M\n",
        "    ResNet56 0.85M\n",
        "    ResNet110 1.7M\n",
        "\n",
        "    # Arguments\n",
        "        input_shape (tensor): shape of input image tensor\n",
        "        depth (int): number of core convolutional layers\n",
        "        num_classes (int): number of classes (CIFAR10 has 10)\n",
        "\n",
        "    # Returns\n",
        "        model (Model): Keras model instance\n",
        "    \"\"\"\n",
        "    if (depth - 2) % 6 != 0:\n",
        "        raise ValueError('depth should be 6n+2 (eg 20, 32, 44 in [a])')\n",
        "    # Start model definition.\n",
        "    num_filters = 64\n",
        "    num_res_blocks = int((depth - 2) / 6)\n",
        "\n",
        "    inputs = Input(shape=input_shape)\n",
        "    x = resnet_layer(inputs=inputs)\n",
        "    # Instantiate the stack of residual units\n",
        "    for stack in range(3):\n",
        "        for res_block in range(num_res_blocks):\n",
        "            strides = 1\n",
        "            if stack > 0 and res_block == 0:  # first layer but not first stack\n",
        "                strides = 2  # downsample\n",
        "            y = resnet_layer(inputs=x,\n",
        "                             num_filters=num_filters,\n",
        "                             strides=strides)\n",
        "            y = resnet_layer(inputs=y,\n",
        "                             num_filters=num_filters,\n",
        "                             activation=None)\n",
        "            if stack > 0 and res_block == 0:  # first layer but not first stack\n",
        "                # linear projection residual shortcut connection to match\n",
        "                # changed dims\n",
        "                x = resnet_layer(inputs=x,\n",
        "                                 num_filters=num_filters,\n",
        "                                 kernel_size=1,\n",
        "                                 strides=strides,\n",
        "                                 activation=None,\n",
        "                                 batch_normalization=False)\n",
        "            x = keras.layers.add([x, y])\n",
        "            x = Activation('relu')(x)\n",
        "        num_filters *= 2\n",
        "\n",
        "    # Add classifier on top.\n",
        "    # v1 does not use BN after last shortcut connection-ReLU\n",
        "    x = AveragePooling2D(pool_size=8)(x)\n",
        "    y = Flatten()(x)\n",
        "    outputs = Dense(num_classes,\n",
        "                    activation='softmax',\n",
        "                    kernel_initializer='he_normal')(y)\n",
        "\n",
        "    # Instantiate model.\n",
        "    model = Model(inputs=inputs, outputs=outputs)\n",
        "    return model"
      ],
      "execution_count": 0,
      "outputs": []
    },
    {
      "cell_type": "code",
      "metadata": {
        "id": "caqcdRV5lhlJ",
        "colab_type": "code",
        "colab": {}
      },
      "source": [
        "def resnet_v2(input_shape, depth, num_classes=10):\n",
        "    \"\"\"ResNet Version 2 Model builder [b]\n",
        "\n",
        "    Stacks of (1 x 1)-(3 x 3)-(1 x 1) BN-ReLU-Conv2D or also known as\n",
        "    bottleneck layer\n",
        "    First shortcut connection per layer is 1 x 1 Conv2D.\n",
        "    Second and onwards shortcut connection is identity.\n",
        "    At the beginning of each stage, the feature map size is halved (downsampled)\n",
        "    by a convolutional layer with strides=2, while the number of filter maps is\n",
        "    doubled. Within each stage, the layers have the same number filters and the\n",
        "    same filter map sizes.\n",
        "    Features maps sizes:\n",
        "    conv1  : 32x32,  16\n",
        "    stage 0: 32x32,  64\n",
        "    stage 1: 16x16, 128\n",
        "    stage 2:  8x8,  256\n",
        "\n",
        "    # Arguments\n",
        "        input_shape (tensor): shape of input image tensor\n",
        "        depth (int): number of core convolutional layers\n",
        "        num_classes (int): number of classes (CIFAR10 has 10)\n",
        "\n",
        "    # Returns\n",
        "        model (Model): Keras model instance\n",
        "    \"\"\"\n",
        "    # if (depth - 2) % 9 != 0:\n",
        "    #     raise ValueError('depth should be 9n+2 (eg 56 or 110 in [b])')\n",
        "    # Start model definition.\n",
        "    num_filters_in = 64\n",
        "    # num_res_blocks = int((depth - 2) / 9)\n",
        "    num_res_blocks = int((depth - 2) / 9)\n",
        "    inputs = Input(shape=input_shape)\n",
        "    # v2 performs Conv2D with BN-ReLU on input before splitting into 2 paths\n",
        "    x = resnet_layer(inputs=inputs,\n",
        "                     num_filters=num_filters_in,\n",
        "                     conv_first=True)\n",
        "\n",
        "    # Instantiate the stack of residual units\n",
        "    for stage in range(3):\n",
        "        for res_block in range(num_res_blocks):\n",
        "            activation = 'relu'\n",
        "            batch_normalization = True\n",
        "            strides = 1\n",
        "            if stage == 0:\n",
        "                num_filters_out = num_filters_in * 4\n",
        "                if res_block == 0:  # first layer and first stage\n",
        "                    activation = None\n",
        "                    batch_normalization = False\n",
        "            else:\n",
        "                num_filters_out = num_filters_in * 2\n",
        "                if res_block == 0:  # first layer but not first stage\n",
        "                    strides = 2    # downsample\n",
        "\n",
        "            # bottleneck residual unit\n",
        "            y = resnet_layer(inputs=x,\n",
        "                             num_filters=num_filters_in,\n",
        "                             kernel_size=1,\n",
        "                             strides=strides,\n",
        "                             activation=activation,\n",
        "                             batch_normalization=batch_normalization,\n",
        "                             conv_first=False)\n",
        "            y = resnet_layer(inputs=y,\n",
        "                             num_filters=num_filters_in,\n",
        "                             conv_first=False)\n",
        "            y = resnet_layer(inputs=y,\n",
        "                             num_filters=num_filters_out,\n",
        "                             kernel_size=1,\n",
        "                             conv_first=False)\n",
        "            if res_block == 0:\n",
        "                # linear projection residual shortcut connection to match\n",
        "                # changed dims\n",
        "                x = resnet_layer(inputs=x,\n",
        "                                 num_filters=num_filters_out,\n",
        "                                 kernel_size=1,\n",
        "                                 strides=strides,\n",
        "                                 activation=None,\n",
        "                                 batch_normalization=False)\n",
        "            x = keras.layers.add([x, y])\n",
        "\n",
        "        num_filters_in = num_filters_out\n",
        "\n",
        "    # Add classifier on top.\n",
        "    # v2 has BN-ReLU before Pooling\n",
        "    x = Dense(256)(x)\n",
        "    # x = Dropout(0.2)(x)\n",
        "    x = BatchNormalization()(x)\n",
        "    x = Activation('relu')(x)\n",
        "    x = AveragePooling2D(pool_size=8)(x)\n",
        "    y = Flatten()(x)\n",
        "    \n",
        "\n",
        "    outputs = Dense(num_classes,\n",
        "                    activation='softmax',\n",
        "                    kernel_initializer='he_normal')(y)\n",
        "\n",
        "    # Instantiate model.\n",
        "    model = Model(inputs=inputs, outputs=outputs)\n",
        "    return model"
      ],
      "execution_count": 0,
      "outputs": []
    },
    {
      "cell_type": "code",
      "metadata": {
        "id": "ieMH20u3lwrw",
        "colab_type": "code",
        "outputId": "34f944f0-ffbd-481a-b59f-838cd45333e8",
        "colab": {
          "base_uri": "https://localhost:8080/",
          "height": 1000
        }
      },
      "source": [
        "if version == 2:\n",
        "    model = resnet_v2(input_shape=input_shape, depth=depth)\n",
        "else:\n",
        "    model = resnet_v1(input_shape=input_shape, depth=depth)\n",
        "\n",
        "model.compile(loss='categorical_crossentropy',\n",
        "              optimizer=Adam(lr=lr_schedule(0)),\n",
        "              metrics=['accuracy'])\n",
        "model.summary()\n",
        "print(model_type)\n",
        "\n",
        "# Prepare model model saving directory.\n",
        "save_dir = os.path.join(os.getcwd(), 'saved_models')\n",
        "model_name = 'cifar10_%s_model.{epoch:03d}.h5' % model_type\n",
        "if not os.path.isdir(save_dir):\n",
        "    os.makedirs(save_dir)\n",
        "filepath = os.path.join(save_dir, model_name)\n",
        "\n",
        "# Prepare callbacks for model saving and for learning rate adjustment.\n",
        "checkpoint = ModelCheckpoint(filepath=filepath,\n",
        "                             monitor='val_acc',\n",
        "                             verbose=1,\n",
        "                             save_best_only=True)\n",
        "\n",
        "lr_scheduler = LearningRateScheduler(lr_schedule)\n",
        "\n",
        "lr_reducer = ReduceLROnPlateau(factor=np.sqrt(0.1),\n",
        "                               cooldown=0,\n",
        "                               patience=5,\n",
        "                               min_lr=0.5e-6)\n",
        "\n",
        "callbacks = [checkpoint, lr_reducer, lr_scheduler]\n"
      ],
      "execution_count": 13,
      "outputs": [
        {
          "output_type": "stream",
          "text": [
            "WARNING:tensorflow:From /usr/local/lib/python3.6/dist-packages/keras/backend/tensorflow_backend.py:4479: The name tf.truncated_normal is deprecated. Please use tf.random.truncated_normal instead.\n",
            "\n",
            "WARNING:tensorflow:From /usr/local/lib/python3.6/dist-packages/keras/backend/tensorflow_backend.py:2041: The name tf.nn.fused_batch_norm is deprecated. Please use tf.compat.v1.nn.fused_batch_norm instead.\n",
            "\n",
            "WARNING:tensorflow:From /usr/local/lib/python3.6/dist-packages/keras/backend/tensorflow_backend.py:148: The name tf.placeholder_with_default is deprecated. Please use tf.compat.v1.placeholder_with_default instead.\n",
            "\n",
            "WARNING:tensorflow:From /usr/local/lib/python3.6/dist-packages/keras/backend/tensorflow_backend.py:4271: The name tf.nn.avg_pool is deprecated. Please use tf.nn.avg_pool2d instead.\n",
            "\n",
            "Learning rate:  0.001\n",
            "WARNING:tensorflow:From /usr/local/lib/python3.6/dist-packages/keras/optimizers.py:793: The name tf.train.Optimizer is deprecated. Please use tf.compat.v1.train.Optimizer instead.\n",
            "\n",
            "WARNING:tensorflow:From /usr/local/lib/python3.6/dist-packages/keras/backend/tensorflow_backend.py:3576: The name tf.log is deprecated. Please use tf.math.log instead.\n",
            "\n",
            "Model: \"model_1\"\n",
            "__________________________________________________________________________________________________\n",
            "Layer (type)                    Output Shape         Param #     Connected to                     \n",
            "==================================================================================================\n",
            "input_3 (InputLayer)            (None, 32, 32, 3)    0                                            \n",
            "__________________________________________________________________________________________________\n",
            "conv2d_1 (Conv2D)               (None, 32, 32, 64)   1792        input_3[0][0]                    \n",
            "__________________________________________________________________________________________________\n",
            "batch_normalization_1 (BatchNor (None, 32, 32, 64)   256         conv2d_1[0][0]                   \n",
            "__________________________________________________________________________________________________\n",
            "activation_1 (Activation)       (None, 32, 32, 64)   0           batch_normalization_1[0][0]      \n",
            "__________________________________________________________________________________________________\n",
            "conv2d_2 (Conv2D)               (None, 32, 32, 64)   4160        activation_1[0][0]               \n",
            "__________________________________________________________________________________________________\n",
            "batch_normalization_2 (BatchNor (None, 32, 32, 64)   256         conv2d_2[0][0]                   \n",
            "__________________________________________________________________________________________________\n",
            "activation_2 (Activation)       (None, 32, 32, 64)   0           batch_normalization_2[0][0]      \n",
            "__________________________________________________________________________________________________\n",
            "conv2d_3 (Conv2D)               (None, 32, 32, 64)   36928       activation_2[0][0]               \n",
            "__________________________________________________________________________________________________\n",
            "batch_normalization_3 (BatchNor (None, 32, 32, 64)   256         conv2d_3[0][0]                   \n",
            "__________________________________________________________________________________________________\n",
            "activation_3 (Activation)       (None, 32, 32, 64)   0           batch_normalization_3[0][0]      \n",
            "__________________________________________________________________________________________________\n",
            "conv2d_5 (Conv2D)               (None, 32, 32, 256)  16640       activation_1[0][0]               \n",
            "__________________________________________________________________________________________________\n",
            "conv2d_4 (Conv2D)               (None, 32, 32, 256)  16640       activation_3[0][0]               \n",
            "__________________________________________________________________________________________________\n",
            "add_1 (Add)                     (None, 32, 32, 256)  0           conv2d_5[0][0]                   \n",
            "                                                                 conv2d_4[0][0]                   \n",
            "__________________________________________________________________________________________________\n",
            "batch_normalization_4 (BatchNor (None, 32, 32, 256)  1024        add_1[0][0]                      \n",
            "__________________________________________________________________________________________________\n",
            "activation_4 (Activation)       (None, 32, 32, 256)  0           batch_normalization_4[0][0]      \n",
            "__________________________________________________________________________________________________\n",
            "conv2d_6 (Conv2D)               (None, 32, 32, 64)   16448       activation_4[0][0]               \n",
            "__________________________________________________________________________________________________\n",
            "batch_normalization_5 (BatchNor (None, 32, 32, 64)   256         conv2d_6[0][0]                   \n",
            "__________________________________________________________________________________________________\n",
            "activation_5 (Activation)       (None, 32, 32, 64)   0           batch_normalization_5[0][0]      \n",
            "__________________________________________________________________________________________________\n",
            "conv2d_7 (Conv2D)               (None, 32, 32, 64)   36928       activation_5[0][0]               \n",
            "__________________________________________________________________________________________________\n",
            "batch_normalization_6 (BatchNor (None, 32, 32, 64)   256         conv2d_7[0][0]                   \n",
            "__________________________________________________________________________________________________\n",
            "activation_6 (Activation)       (None, 32, 32, 64)   0           batch_normalization_6[0][0]      \n",
            "__________________________________________________________________________________________________\n",
            "conv2d_8 (Conv2D)               (None, 32, 32, 256)  16640       activation_6[0][0]               \n",
            "__________________________________________________________________________________________________\n",
            "add_2 (Add)                     (None, 32, 32, 256)  0           add_1[0][0]                      \n",
            "                                                                 conv2d_8[0][0]                   \n",
            "__________________________________________________________________________________________________\n",
            "batch_normalization_7 (BatchNor (None, 32, 32, 256)  1024        add_2[0][0]                      \n",
            "__________________________________________________________________________________________________\n",
            "activation_7 (Activation)       (None, 32, 32, 256)  0           batch_normalization_7[0][0]      \n",
            "__________________________________________________________________________________________________\n",
            "conv2d_9 (Conv2D)               (None, 16, 16, 256)  65792       activation_7[0][0]               \n",
            "__________________________________________________________________________________________________\n",
            "batch_normalization_8 (BatchNor (None, 16, 16, 256)  1024        conv2d_9[0][0]                   \n",
            "__________________________________________________________________________________________________\n",
            "activation_8 (Activation)       (None, 16, 16, 256)  0           batch_normalization_8[0][0]      \n",
            "__________________________________________________________________________________________________\n",
            "conv2d_10 (Conv2D)              (None, 16, 16, 256)  590080      activation_8[0][0]               \n",
            "__________________________________________________________________________________________________\n",
            "batch_normalization_9 (BatchNor (None, 16, 16, 256)  1024        conv2d_10[0][0]                  \n",
            "__________________________________________________________________________________________________\n",
            "activation_9 (Activation)       (None, 16, 16, 256)  0           batch_normalization_9[0][0]      \n",
            "__________________________________________________________________________________________________\n",
            "conv2d_12 (Conv2D)              (None, 16, 16, 512)  131584      add_2[0][0]                      \n",
            "__________________________________________________________________________________________________\n",
            "conv2d_11 (Conv2D)              (None, 16, 16, 512)  131584      activation_9[0][0]               \n",
            "__________________________________________________________________________________________________\n",
            "add_3 (Add)                     (None, 16, 16, 512)  0           conv2d_12[0][0]                  \n",
            "                                                                 conv2d_11[0][0]                  \n",
            "__________________________________________________________________________________________________\n",
            "batch_normalization_10 (BatchNo (None, 16, 16, 512)  2048        add_3[0][0]                      \n",
            "__________________________________________________________________________________________________\n",
            "activation_10 (Activation)      (None, 16, 16, 512)  0           batch_normalization_10[0][0]     \n",
            "__________________________________________________________________________________________________\n",
            "conv2d_13 (Conv2D)              (None, 16, 16, 256)  131328      activation_10[0][0]              \n",
            "__________________________________________________________________________________________________\n",
            "batch_normalization_11 (BatchNo (None, 16, 16, 256)  1024        conv2d_13[0][0]                  \n",
            "__________________________________________________________________________________________________\n",
            "activation_11 (Activation)      (None, 16, 16, 256)  0           batch_normalization_11[0][0]     \n",
            "__________________________________________________________________________________________________\n",
            "conv2d_14 (Conv2D)              (None, 16, 16, 256)  590080      activation_11[0][0]              \n",
            "__________________________________________________________________________________________________\n",
            "batch_normalization_12 (BatchNo (None, 16, 16, 256)  1024        conv2d_14[0][0]                  \n",
            "__________________________________________________________________________________________________\n",
            "activation_12 (Activation)      (None, 16, 16, 256)  0           batch_normalization_12[0][0]     \n",
            "__________________________________________________________________________________________________\n",
            "conv2d_15 (Conv2D)              (None, 16, 16, 512)  131584      activation_12[0][0]              \n",
            "__________________________________________________________________________________________________\n",
            "add_4 (Add)                     (None, 16, 16, 512)  0           add_3[0][0]                      \n",
            "                                                                 conv2d_15[0][0]                  \n",
            "__________________________________________________________________________________________________\n",
            "batch_normalization_13 (BatchNo (None, 16, 16, 512)  2048        add_4[0][0]                      \n",
            "__________________________________________________________________________________________________\n",
            "activation_13 (Activation)      (None, 16, 16, 512)  0           batch_normalization_13[0][0]     \n",
            "__________________________________________________________________________________________________\n",
            "conv2d_16 (Conv2D)              (None, 8, 8, 512)    262656      activation_13[0][0]              \n",
            "__________________________________________________________________________________________________\n",
            "batch_normalization_14 (BatchNo (None, 8, 8, 512)    2048        conv2d_16[0][0]                  \n",
            "__________________________________________________________________________________________________\n",
            "activation_14 (Activation)      (None, 8, 8, 512)    0           batch_normalization_14[0][0]     \n",
            "__________________________________________________________________________________________________\n",
            "conv2d_17 (Conv2D)              (None, 8, 8, 512)    2359808     activation_14[0][0]              \n",
            "__________________________________________________________________________________________________\n",
            "batch_normalization_15 (BatchNo (None, 8, 8, 512)    2048        conv2d_17[0][0]                  \n",
            "__________________________________________________________________________________________________\n",
            "activation_15 (Activation)      (None, 8, 8, 512)    0           batch_normalization_15[0][0]     \n",
            "__________________________________________________________________________________________________\n",
            "conv2d_19 (Conv2D)              (None, 8, 8, 1024)   525312      add_4[0][0]                      \n",
            "__________________________________________________________________________________________________\n",
            "conv2d_18 (Conv2D)              (None, 8, 8, 1024)   525312      activation_15[0][0]              \n",
            "__________________________________________________________________________________________________\n",
            "add_5 (Add)                     (None, 8, 8, 1024)   0           conv2d_19[0][0]                  \n",
            "                                                                 conv2d_18[0][0]                  \n",
            "__________________________________________________________________________________________________\n",
            "batch_normalization_16 (BatchNo (None, 8, 8, 1024)   4096        add_5[0][0]                      \n",
            "__________________________________________________________________________________________________\n",
            "activation_16 (Activation)      (None, 8, 8, 1024)   0           batch_normalization_16[0][0]     \n",
            "__________________________________________________________________________________________________\n",
            "conv2d_20 (Conv2D)              (None, 8, 8, 512)    524800      activation_16[0][0]              \n",
            "__________________________________________________________________________________________________\n",
            "batch_normalization_17 (BatchNo (None, 8, 8, 512)    2048        conv2d_20[0][0]                  \n",
            "__________________________________________________________________________________________________\n",
            "activation_17 (Activation)      (None, 8, 8, 512)    0           batch_normalization_17[0][0]     \n",
            "__________________________________________________________________________________________________\n",
            "conv2d_21 (Conv2D)              (None, 8, 8, 512)    2359808     activation_17[0][0]              \n",
            "__________________________________________________________________________________________________\n",
            "batch_normalization_18 (BatchNo (None, 8, 8, 512)    2048        conv2d_21[0][0]                  \n",
            "__________________________________________________________________________________________________\n",
            "activation_18 (Activation)      (None, 8, 8, 512)    0           batch_normalization_18[0][0]     \n",
            "__________________________________________________________________________________________________\n",
            "conv2d_22 (Conv2D)              (None, 8, 8, 1024)   525312      activation_18[0][0]              \n",
            "__________________________________________________________________________________________________\n",
            "add_6 (Add)                     (None, 8, 8, 1024)   0           add_5[0][0]                      \n",
            "                                                                 conv2d_22[0][0]                  \n",
            "__________________________________________________________________________________________________\n",
            "dense_1 (Dense)                 (None, 8, 8, 256)    262400      add_6[0][0]                      \n",
            "__________________________________________________________________________________________________\n",
            "batch_normalization_19 (BatchNo (None, 8, 8, 256)    1024        dense_1[0][0]                    \n",
            "__________________________________________________________________________________________________\n",
            "activation_19 (Activation)      (None, 8, 8, 256)    0           batch_normalization_19[0][0]     \n",
            "__________________________________________________________________________________________________\n",
            "average_pooling2d_1 (AveragePoo (None, 1, 1, 256)    0           activation_19[0][0]              \n",
            "__________________________________________________________________________________________________\n",
            "flatten_1 (Flatten)             (None, 256)          0           average_pooling2d_1[0][0]        \n",
            "__________________________________________________________________________________________________\n",
            "dense_2 (Dense)                 (None, 10)           2570        flatten_1[0][0]                  \n",
            "==================================================================================================\n",
            "Total params: 9,291,018\n",
            "Trainable params: 9,278,602\n",
            "Non-trainable params: 12,416\n",
            "__________________________________________________________________________________________________\n",
            "ResNet20v2\n"
          ],
          "name": "stdout"
        }
      ]
    },
    {
      "cell_type": "code",
      "metadata": {
        "id": "XWKJYaBZyN-f",
        "colab_type": "code",
        "colab": {}
      },
      "source": [
        "\n",
        "def get_random_eraser(p=0.5, s_l=0.02, s_h=0.4, r_1=0.3, r_2=1/0.3, v_l=0, v_h=255, pixel_level=False):\n",
        "    def eraser(input_img):\n",
        "        img_h, img_w, img_c = input_img.shape\n",
        "        p_1 = np.random.rand()\n",
        "\n",
        "        if p_1 > p:\n",
        "            return input_img\n",
        "\n",
        "        while True:\n",
        "            s = np.random.uniform(s_l, s_h) * img_h * img_w\n",
        "            r = np.random.uniform(r_1, r_2)\n",
        "            w = int(np.sqrt(s / r))\n",
        "            h = int(np.sqrt(s * r))\n",
        "            left = np.random.randint(0, img_w)\n",
        "            top = np.random.randint(0, img_h)\n",
        "\n",
        "            if left + w <= img_w and top + h <= img_h:\n",
        "                break\n",
        "\n",
        "        if pixel_level:\n",
        "            c = np.random.uniform(v_l, v_h, (h, w, img_c))\n",
        "        else:\n",
        "            c = np.random.uniform(v_l, v_h)\n",
        "\n",
        "        input_img[top:top + h, left:left + w, :] = c\n",
        "\n",
        "        return input_img\n",
        "\n",
        "    return eraser"
      ],
      "execution_count": 0,
      "outputs": []
    },
    {
      "cell_type": "code",
      "metadata": {
        "id": "lXsPPrJJq6ga",
        "colab_type": "code",
        "outputId": "6e6c672c-90d3-4004-ed69-9e11efe25129",
        "colab": {
          "base_uri": "https://localhost:8080/",
          "height": 1000
        }
      },
      "source": [
        "# Run training, with or without data augmentation.\n",
        "if not data_augmentation:\n",
        "    print('Not using data augmentation.')\n",
        "    model.fit(x_train, y_train,\n",
        "              batch_size=batch_size,\n",
        "              epochs=epochs,\n",
        "              validation_data=(x_test, y_test),\n",
        "              shuffle=True,\n",
        "              callbacks=callbacks)\n",
        "else:\n",
        "    print('Using real-time data augmentation.')\n",
        "    # This will do preprocessing and realtime data augmentation:\n",
        "    datagen = ImageDataGenerator(\n",
        "        # set input mean to 0 over the dataset\n",
        "        featurewise_center=False,\n",
        "        # set each sample mean to 0\n",
        "        samplewise_center=False,\n",
        "        # divide inputs by std of dataset\n",
        "        featurewise_std_normalization=False,\n",
        "        # divide each input by its std\n",
        "        samplewise_std_normalization=False,\n",
        "        # apply ZCA whitening\n",
        "        zca_whitening=False,\n",
        "        # epsilon for ZCA whitening\n",
        "        zca_epsilon=1e-06,\n",
        "        # randomly rotate images in the range (deg 0 to 180)\n",
        "        rotation_range=0,\n",
        "        # randomly shift images horizontally\n",
        "        width_shift_range=0.1,\n",
        "        # randomly shift images vertically\n",
        "        height_shift_range=0.1,\n",
        "        # set range for random shear\n",
        "        shear_range=0.,\n",
        "        # set range for random zoom\n",
        "        zoom_range=0.,\n",
        "        # set range for random channel shifts\n",
        "        channel_shift_range=0.,\n",
        "        # set mode for filling points outside the input boundaries\n",
        "        fill_mode='nearest',\n",
        "        # value used for fill_mode = \"constant\"\n",
        "        cval=0.,\n",
        "        # randomly flip images\n",
        "        horizontal_flip=True,\n",
        "        # randomly flip images\n",
        "        vertical_flip=False,\n",
        "        # set rescaling factor (applied before any other transformation)\n",
        "        rescale=None,\n",
        "        # set function that will be applied on each input\n",
        "        preprocessing_function=None,\n",
        "        # image data format, either \"channels_first\" or \"channels_last\"\n",
        "        data_format=None,\n",
        "        # fraction of images reserved for validation (strictly between 0 and 1)\n",
        "        validation_split=0.0)\n",
        "\n",
        "    # Compute quantities required for featurewise normalization\n",
        "    # (std, mean, and principal components if ZCA whitening is applied).\n",
        "    datagen.fit(x_train)\n",
        "\n",
        "    # Fit the model on the batches generated by datagen.flow().\n",
        "    model.fit_generator(datagen.flow(x_train, y_train, batch_size=batch_size),\n",
        "                        validation_data=(x_test, y_test),\n",
        "                        epochs=epochs, verbose=1, workers=4,\n",
        "                        callbacks=callbacks)\n",
        "\n",
        "# Score trained model.\n",
        "scores = model.evaluate(x_test, y_test, verbose=1)"
      ],
      "execution_count": 15,
      "outputs": [
        {
          "output_type": "stream",
          "text": [
            "Using real-time data augmentation.\n",
            "WARNING:tensorflow:From /usr/local/lib/python3.6/dist-packages/tensorflow_core/python/ops/math_grad.py:1424: where (from tensorflow.python.ops.array_ops) is deprecated and will be removed in a future version.\n",
            "Instructions for updating:\n",
            "Use tf.where in 2.0, which has the same broadcast rule as np.where\n",
            "WARNING:tensorflow:From /usr/local/lib/python3.6/dist-packages/keras/backend/tensorflow_backend.py:1033: The name tf.assign_add is deprecated. Please use tf.compat.v1.assign_add instead.\n",
            "\n",
            "WARNING:tensorflow:From /usr/local/lib/python3.6/dist-packages/keras/backend/tensorflow_backend.py:1020: The name tf.assign is deprecated. Please use tf.compat.v1.assign instead.\n",
            "\n",
            "Epoch 1/50\n",
            "Learning rate:  0.001\n",
            "391/391 [==============================] - 153s 391ms/step - loss: 2.4088 - acc: 0.5153 - val_loss: 2.5760 - val_acc: 0.4310\n",
            "\n",
            "Epoch 00001: val_acc improved from -inf to 0.43100, saving model to /content/saved_models/cifar10_ResNet20v2_model.001.h5\n",
            "Epoch 2/50\n",
            "Learning rate:  0.001\n",
            "391/391 [==============================] - 144s 368ms/step - loss: 1.5559 - acc: 0.6439 - val_loss: 2.4638 - val_acc: 0.4602\n",
            "\n",
            "Epoch 00002: val_acc improved from 0.43100 to 0.46020, saving model to /content/saved_models/cifar10_ResNet20v2_model.002.h5\n",
            "Epoch 3/50\n",
            "Learning rate:  0.001\n",
            "391/391 [==============================] - 144s 368ms/step - loss: 1.2876 - acc: 0.7036 - val_loss: 2.6295 - val_acc: 0.4513\n",
            "\n",
            "Epoch 00003: val_acc did not improve from 0.46020\n",
            "Epoch 4/50\n",
            "Learning rate:  0.001\n",
            "391/391 [==============================] - 144s 368ms/step - loss: 1.1489 - acc: 0.7378 - val_loss: 1.7636 - val_acc: 0.5567\n",
            "\n",
            "Epoch 00004: val_acc improved from 0.46020 to 0.55670, saving model to /content/saved_models/cifar10_ResNet20v2_model.004.h5\n",
            "Epoch 5/50\n",
            "Learning rate:  0.001\n",
            "391/391 [==============================] - 144s 368ms/step - loss: 1.0552 - acc: 0.7605 - val_loss: 1.5602 - val_acc: 0.5929\n",
            "\n",
            "Epoch 00005: val_acc improved from 0.55670 to 0.59290, saving model to /content/saved_models/cifar10_ResNet20v2_model.005.h5\n",
            "Epoch 6/50\n",
            "Learning rate:  0.001\n",
            "391/391 [==============================] - 144s 368ms/step - loss: 0.9856 - acc: 0.7816 - val_loss: 1.3261 - val_acc: 0.6745\n",
            "\n",
            "Epoch 00006: val_acc improved from 0.59290 to 0.67450, saving model to /content/saved_models/cifar10_ResNet20v2_model.006.h5\n",
            "Epoch 7/50\n",
            "Learning rate:  0.001\n",
            "391/391 [==============================] - 144s 368ms/step - loss: 0.9400 - acc: 0.7895 - val_loss: 1.3435 - val_acc: 0.6823\n",
            "\n",
            "Epoch 00007: val_acc improved from 0.67450 to 0.68230, saving model to /content/saved_models/cifar10_ResNet20v2_model.007.h5\n",
            "Epoch 8/50\n",
            "Learning rate:  0.001\n",
            "391/391 [==============================] - 144s 368ms/step - loss: 0.9088 - acc: 0.7979 - val_loss: 1.3175 - val_acc: 0.6835\n",
            "\n",
            "Epoch 00008: val_acc improved from 0.68230 to 0.68350, saving model to /content/saved_models/cifar10_ResNet20v2_model.008.h5\n",
            "Epoch 9/50\n",
            "Learning rate:  0.001\n",
            "391/391 [==============================] - 144s 368ms/step - loss: 0.8745 - acc: 0.8069 - val_loss: 1.7084 - val_acc: 0.6085\n",
            "\n",
            "Epoch 00009: val_acc did not improve from 0.68350\n",
            "Epoch 10/50\n",
            "Learning rate:  0.001\n",
            "391/391 [==============================] - 144s 368ms/step - loss: 0.8391 - acc: 0.8172 - val_loss: 1.5905 - val_acc: 0.6312\n",
            "\n",
            "Epoch 00010: val_acc did not improve from 0.68350\n",
            "Epoch 11/50\n",
            "Learning rate:  0.001\n",
            "391/391 [==============================] - 144s 368ms/step - loss: 0.8149 - acc: 0.8237 - val_loss: 1.7721 - val_acc: 0.6176\n",
            "\n",
            "Epoch 00011: val_acc did not improve from 0.68350\n",
            "Epoch 12/50\n",
            "Learning rate:  0.0001\n",
            "391/391 [==============================] - 144s 368ms/step - loss: 0.6531 - acc: 0.8784 - val_loss: 0.7017 - val_acc: 0.8556\n",
            "\n",
            "Epoch 00012: val_acc improved from 0.68350 to 0.85560, saving model to /content/saved_models/cifar10_ResNet20v2_model.012.h5\n",
            "Epoch 13/50\n",
            "Learning rate:  0.0001\n",
            "391/391 [==============================] - 144s 367ms/step - loss: 0.5909 - acc: 0.8939 - val_loss: 0.6880 - val_acc: 0.8561\n",
            "\n",
            "Epoch 00013: val_acc improved from 0.85560 to 0.85610, saving model to /content/saved_models/cifar10_ResNet20v2_model.013.h5\n",
            "Epoch 14/50\n",
            "Learning rate:  0.0001\n",
            "391/391 [==============================] - 144s 367ms/step - loss: 0.5632 - acc: 0.8983 - val_loss: 0.6583 - val_acc: 0.8647\n",
            "\n",
            "Epoch 00014: val_acc improved from 0.85610 to 0.86470, saving model to /content/saved_models/cifar10_ResNet20v2_model.014.h5\n",
            "Epoch 15/50\n",
            "Learning rate:  0.0001\n",
            "391/391 [==============================] - 144s 367ms/step - loss: 0.5391 - acc: 0.9046 - val_loss: 0.6689 - val_acc: 0.8587\n",
            "\n",
            "Epoch 00015: val_acc did not improve from 0.86470\n",
            "Epoch 16/50\n",
            "Learning rate:  0.0001\n",
            "391/391 [==============================] - 143s 367ms/step - loss: 0.5226 - acc: 0.9068 - val_loss: 0.6691 - val_acc: 0.8573\n",
            "\n",
            "Epoch 00016: val_acc did not improve from 0.86470\n",
            "Epoch 17/50\n",
            "Learning rate:  0.0001\n",
            "391/391 [==============================] - 144s 368ms/step - loss: 0.5059 - acc: 0.9125 - val_loss: 0.6362 - val_acc: 0.8699\n",
            "\n",
            "Epoch 00017: val_acc improved from 0.86470 to 0.86990, saving model to /content/saved_models/cifar10_ResNet20v2_model.017.h5\n",
            "Epoch 18/50\n",
            "Learning rate:  0.0001\n",
            "391/391 [==============================] - 144s 367ms/step - loss: 0.4885 - acc: 0.9164 - val_loss: 0.6084 - val_acc: 0.8756\n",
            "\n",
            "Epoch 00018: val_acc improved from 0.86990 to 0.87560, saving model to /content/saved_models/cifar10_ResNet20v2_model.018.h5\n",
            "Epoch 19/50\n",
            "Learning rate:  0.0001\n",
            "391/391 [==============================] - 144s 368ms/step - loss: 0.4747 - acc: 0.9192 - val_loss: 0.6450 - val_acc: 0.8663\n",
            "\n",
            "Epoch 00019: val_acc did not improve from 0.87560\n",
            "Epoch 20/50\n",
            "Learning rate:  0.0001\n",
            "391/391 [==============================] - 144s 369ms/step - loss: 0.4598 - acc: 0.9230 - val_loss: 0.7449 - val_acc: 0.8428\n",
            "\n",
            "Epoch 00020: val_acc did not improve from 0.87560\n",
            "Epoch 21/50\n",
            "Learning rate:  0.0001\n",
            "391/391 [==============================] - 144s 369ms/step - loss: 0.4490 - acc: 0.9251 - val_loss: 0.6731 - val_acc: 0.8577\n",
            "\n",
            "Epoch 00021: val_acc did not improve from 0.87560\n",
            "Epoch 22/50\n",
            "Learning rate:  0.0001\n",
            "391/391 [==============================] - 144s 368ms/step - loss: 0.4389 - acc: 0.9273 - val_loss: 0.6286 - val_acc: 0.8687\n",
            "\n",
            "Epoch 00022: val_acc did not improve from 0.87560\n",
            "Epoch 23/50\n",
            "Learning rate:  0.0001\n",
            "391/391 [==============================] - 144s 369ms/step - loss: 0.4221 - acc: 0.9330 - val_loss: 0.6711 - val_acc: 0.8651\n",
            "\n",
            "Epoch 00023: val_acc did not improve from 0.87560\n",
            "Epoch 24/50\n",
            "Learning rate:  0.0001\n",
            "391/391 [==============================] - 144s 368ms/step - loss: 0.4159 - acc: 0.9334 - val_loss: 0.6043 - val_acc: 0.8790\n",
            "\n",
            "Epoch 00024: val_acc improved from 0.87560 to 0.87900, saving model to /content/saved_models/cifar10_ResNet20v2_model.024.h5\n",
            "Epoch 25/50\n",
            "Learning rate:  0.0001\n",
            "391/391 [==============================] - 144s 368ms/step - loss: 0.4041 - acc: 0.9382 - val_loss: 0.6391 - val_acc: 0.8690\n",
            "\n",
            "Epoch 00025: val_acc did not improve from 0.87900\n",
            "Epoch 26/50\n",
            "Learning rate:  0.0001\n",
            "391/391 [==============================] - 144s 368ms/step - loss: 0.3956 - acc: 0.9382 - val_loss: 0.6045 - val_acc: 0.8813\n",
            "\n",
            "Epoch 00026: val_acc improved from 0.87900 to 0.88130, saving model to /content/saved_models/cifar10_ResNet20v2_model.026.h5\n",
            "Epoch 27/50\n",
            "Learning rate:  0.0001\n",
            "391/391 [==============================] - 144s 369ms/step - loss: 0.3893 - acc: 0.9410 - val_loss: 0.5874 - val_acc: 0.8829\n",
            "\n",
            "Epoch 00027: val_acc improved from 0.88130 to 0.88290, saving model to /content/saved_models/cifar10_ResNet20v2_model.027.h5\n",
            "Epoch 28/50\n",
            "Learning rate:  0.0001\n",
            "391/391 [==============================] - 144s 369ms/step - loss: 0.3785 - acc: 0.9438 - val_loss: 0.5944 - val_acc: 0.8862\n",
            "\n",
            "Epoch 00028: val_acc improved from 0.88290 to 0.88620, saving model to /content/saved_models/cifar10_ResNet20v2_model.028.h5\n",
            "Epoch 29/50\n",
            "Learning rate:  0.0001\n",
            "391/391 [==============================] - 144s 368ms/step - loss: 0.3742 - acc: 0.9442 - val_loss: 0.8233 - val_acc: 0.8357\n",
            "\n",
            "Epoch 00029: val_acc did not improve from 0.88620\n",
            "Epoch 30/50\n",
            "Learning rate:  0.0001\n",
            "391/391 [==============================] - 144s 368ms/step - loss: 0.3648 - acc: 0.9477 - val_loss: 0.6223 - val_acc: 0.8740\n",
            "\n",
            "Epoch 00030: val_acc did not improve from 0.88620\n",
            "Epoch 31/50\n",
            "Learning rate:  0.0001\n",
            "391/391 [==============================] - 144s 368ms/step - loss: 0.3579 - acc: 0.9489 - val_loss: 0.5771 - val_acc: 0.8893\n",
            "\n",
            "Epoch 00031: val_acc improved from 0.88620 to 0.88930, saving model to /content/saved_models/cifar10_ResNet20v2_model.031.h5\n",
            "Epoch 32/50\n",
            "Learning rate:  0.0001\n",
            "391/391 [==============================] - 144s 369ms/step - loss: 0.3510 - acc: 0.9509 - val_loss: 0.6645 - val_acc: 0.8665\n",
            "\n",
            "Epoch 00032: val_acc did not improve from 0.88930\n",
            "Epoch 33/50\n",
            "Learning rate:  0.0001\n",
            "391/391 [==============================] - 144s 368ms/step - loss: 0.3448 - acc: 0.9527 - val_loss: 0.5809 - val_acc: 0.8876\n",
            "\n",
            "Epoch 00033: val_acc did not improve from 0.88930\n",
            "Epoch 34/50\n",
            "Learning rate:  0.0001\n",
            "391/391 [==============================] - 144s 368ms/step - loss: 0.3371 - acc: 0.9549 - val_loss: 0.6343 - val_acc: 0.8765\n",
            "\n",
            "Epoch 00034: val_acc did not improve from 0.88930\n",
            "Epoch 35/50\n",
            "Learning rate:  0.0001\n",
            "391/391 [==============================] - 144s 368ms/step - loss: 0.3326 - acc: 0.9559 - val_loss: 0.6002 - val_acc: 0.8794\n",
            "\n",
            "Epoch 00035: val_acc did not improve from 0.88930\n",
            "Epoch 36/50\n",
            "Learning rate:  0.0001\n",
            "391/391 [==============================] - 144s 368ms/step - loss: 0.3247 - acc: 0.9586 - val_loss: 0.6371 - val_acc: 0.8791\n",
            "\n",
            "Epoch 00036: val_acc did not improve from 0.88930\n",
            "Epoch 37/50\n",
            "Learning rate:  0.0001\n",
            "391/391 [==============================] - 144s 369ms/step - loss: 0.3227 - acc: 0.9586 - val_loss: 0.6760 - val_acc: 0.8731\n",
            "\n",
            "Epoch 00037: val_acc did not improve from 0.88930\n",
            "Epoch 38/50\n",
            "Learning rate:  0.0001\n",
            "391/391 [==============================] - 144s 369ms/step - loss: 0.3162 - acc: 0.9607 - val_loss: 0.6361 - val_acc: 0.8742\n",
            "\n",
            "Epoch 00038: val_acc did not improve from 0.88930\n",
            "Epoch 39/50\n",
            "Learning rate:  0.0001\n",
            "391/391 [==============================] - 145s 370ms/step - loss: 0.3095 - acc: 0.9634 - val_loss: 0.6257 - val_acc: 0.8840\n",
            "\n",
            "Epoch 00039: val_acc did not improve from 0.88930\n",
            "Epoch 40/50\n",
            "Learning rate:  0.0001\n",
            "391/391 [==============================] - 144s 369ms/step - loss: 0.3062 - acc: 0.9636 - val_loss: 0.6180 - val_acc: 0.8841\n",
            "\n",
            "Epoch 00040: val_acc did not improve from 0.88930\n",
            "Epoch 41/50\n",
            "Learning rate:  0.0001\n",
            "391/391 [==============================] - 145s 370ms/step - loss: 0.3015 - acc: 0.9639 - val_loss: 0.6402 - val_acc: 0.8742\n",
            "\n",
            "Epoch 00041: val_acc did not improve from 0.88930\n",
            "Epoch 42/50\n",
            "Learning rate:  0.0001\n",
            "391/391 [==============================] - 144s 368ms/step - loss: 0.2981 - acc: 0.9663 - val_loss: 0.6055 - val_acc: 0.8847\n",
            "\n",
            "Epoch 00042: val_acc did not improve from 0.88930\n",
            "Epoch 43/50\n",
            "Learning rate:  0.0001\n",
            "391/391 [==============================] - 144s 369ms/step - loss: 0.2916 - acc: 0.9674 - val_loss: 0.5930 - val_acc: 0.8901\n",
            "\n",
            "Epoch 00043: val_acc improved from 0.88930 to 0.89010, saving model to /content/saved_models/cifar10_ResNet20v2_model.043.h5\n",
            "Epoch 44/50\n",
            "Learning rate:  0.0001\n",
            "391/391 [==============================] - 144s 369ms/step - loss: 0.2919 - acc: 0.9666 - val_loss: 0.7302 - val_acc: 0.8603\n",
            "\n",
            "Epoch 00044: val_acc did not improve from 0.89010\n",
            "Epoch 45/50\n",
            "Learning rate:  0.0001\n",
            "391/391 [==============================] - 145s 370ms/step - loss: 0.2920 - acc: 0.9664 - val_loss: 0.5702 - val_acc: 0.8936\n",
            "\n",
            "Epoch 00045: val_acc improved from 0.89010 to 0.89360, saving model to /content/saved_models/cifar10_ResNet20v2_model.045.h5\n",
            "Epoch 46/50\n",
            "Learning rate:  0.0001\n",
            "391/391 [==============================] - 145s 370ms/step - loss: 0.2812 - acc: 0.9704 - val_loss: 0.7000 - val_acc: 0.8662\n",
            "\n",
            "Epoch 00046: val_acc did not improve from 0.89360\n",
            "Epoch 47/50\n",
            "Learning rate:  0.0001\n",
            "391/391 [==============================] - 144s 369ms/step - loss: 0.2800 - acc: 0.9703 - val_loss: 0.6485 - val_acc: 0.8865\n",
            "\n",
            "Epoch 00047: val_acc did not improve from 0.89360\n",
            "Epoch 48/50\n",
            "Learning rate:  0.0001\n",
            "391/391 [==============================] - 144s 368ms/step - loss: 0.2778 - acc: 0.9704 - val_loss: 0.6934 - val_acc: 0.8736\n",
            "\n",
            "Epoch 00048: val_acc did not improve from 0.89360\n",
            "Epoch 49/50\n",
            "Learning rate:  0.0001\n",
            "391/391 [==============================] - 144s 368ms/step - loss: 0.2742 - acc: 0.9708 - val_loss: 0.7374 - val_acc: 0.8638\n",
            "\n",
            "Epoch 00049: val_acc did not improve from 0.89360\n",
            "Epoch 50/50\n",
            "Learning rate:  0.0001\n",
            "391/391 [==============================] - 145s 370ms/step - loss: 0.2706 - acc: 0.9727 - val_loss: 0.5923 - val_acc: 0.8931\n",
            "\n",
            "Epoch 00050: val_acc did not improve from 0.89360\n",
            "10000/10000 [==============================] - 11s 1ms/step\n"
          ],
          "name": "stdout"
        }
      ]
    },
    {
      "cell_type": "code",
      "metadata": {
        "id": "uOBz9uSZFeE9",
        "colab_type": "code",
        "outputId": "7fcee933-f783-454f-dae3-a5bf5a6a15ba",
        "colab": {
          "base_uri": "https://localhost:8080/",
          "height": 50
        }
      },
      "source": [
        "print('Test loss:', scores[0])\n",
        "print('Test accuracy:', scores[1])"
      ],
      "execution_count": 16,
      "outputs": [
        {
          "output_type": "stream",
          "text": [
            "Test loss: 0.5922977709770203\n",
            "Test accuracy: 0.8931\n"
          ],
          "name": "stdout"
        }
      ]
    },
    {
      "cell_type": "code",
      "metadata": {
        "id": "tnr3s2QMmuJc",
        "colab_type": "code",
        "colab": {}
      },
      "source": [
        "#GradCam"
      ],
      "execution_count": 0,
      "outputs": []
    },
    {
      "cell_type": "code",
      "metadata": {
        "id": "dxeGFQUaUG-f",
        "colab_type": "code",
        "outputId": "e939aa16-6459-466a-fefd-133f21bb9440",
        "colab": {
          "base_uri": "https://localhost:8080/",
          "height": 1000
        }
      },
      "source": [
        "\"\"\"CIFAR 10 images index\n",
        "airplane : 0\n",
        "automobile : 1\n",
        "bird : 2\n",
        "cat : 3\n",
        "deer : 4\n",
        "dog : 5\n",
        "frog : 6\n",
        "horse : 7\n",
        "ship : 8\n",
        "truck : 9\"\"\"\n",
        "\n",
        "from keras.applications.vgg16 import VGG16, preprocess_input, decode_predictions\n",
        "from keras.preprocessing import image\n",
        "import numpy as np\n",
        "import cv2\n",
        "from keras import backend as K\n",
        "from skimage import io\n",
        "\n",
        "itemlist = {\n",
        "\"airplane\":\"http://www.boeing.com/resources/boeingdotcom/defense/air-force-one/air_force_one_visindex6_300x215.jpg\",\n",
        "\"automobile\":\"https://upload.wikimedia.org/wikipedia/commons/thumb/a/ac/Automobile_Peugeot_Paris_%28223720747%29.jpeg/1200px-Automobile_Peugeot_Paris_%28223720747%29.jpeg\",\n",
        "\"dog\":\"https://upload.wikimedia.org/wikipedia/commons/b/bc/Owczarek_francuski_beauceron_009pl.jpg\",\n",
        "\"frog\":\"https://upload.wikimedia.org/wikipedia/commons/c/cb/Groene_kikker_achter_Bekaert-draad.jpg\",\n",
        "\"ship\":\"https://upload.wikimedia.org/wikipedia/commons/thumb/9/93/ShipNorway.JPG/1280px-ShipNorway.JPG\",\n",
        "\"bird\":\"https://upload.wikimedia.org/wikipedia/commons/9/9d/Bird_in_flight_wings_spread.jpg\",\n",
        "\"cat\":\"https://upload.wikimedia.org/wikipedia/commons/a/a3/June_odd-eyed-cat.jpg\",\n",
        "\"deer\":\"https://upload.wikimedia.org/wikipedia/commons/2/2f/MAGIC_DEER.JPG\",\n",
        "\"horse\":\"https://upload.wikimedia.org/wikipedia/commons/3/36/AngloKabardiner2.jpg\",\n",
        "}\n",
        "\n",
        "print(itemlist)\n",
        "\n",
        "def GetImg(input_img):\n",
        "  input_img = io.imread(input_img)\n",
        "  input_img = cv2.resize(input_img, dsize=(32, 32), interpolation=cv2.INTER_CUBIC)\n",
        "  x = image.img_to_array(input_img)\n",
        "  x = np.expand_dims(x, axis=0)\n",
        "  x = preprocess_input(x)  \n",
        "  preds = model.predict(x)\n",
        "  class_idx = np.argmax(preds[0])\n",
        "  print(class_idx)\n",
        "  class_output = model.output[:, class_idx]\n",
        "  last_conv_layer = model.get_layer(\"conv2d_22\")\n",
        "\n",
        "  grads = K.gradients(class_output, last_conv_layer.output)[0]\n",
        "  print(grads.shape)\n",
        "  pooled_grads = K.mean(grads, axis=(0, 1, 2))\n",
        "  print(pooled_grads.shape)\n",
        "  iterate = K.function([model.input], [pooled_grads, last_conv_layer.output[0]])\n",
        "\n",
        "  pooled_grads_value, conv_layer_output_value = iterate([x])\n",
        "\n",
        "  for i in range(512):\n",
        "      conv_layer_output_value[:, :, i] *= pooled_grads_value[i]\n",
        "\n",
        "  heatmap = np.mean(conv_layer_output_value, axis = -1)\n",
        "  print(conv_layer_output_value.shape)\n",
        "  print(heatmap.shape)\n",
        "  heatmap = np.maximum(heatmap, 0)\n",
        "  heatmap /= np.max(heatmap)\n",
        "\n",
        "  heatmap = cv2.resize(heatmap, (input_img.shape[1], input_img.shape[0]))\n",
        "  heatmap = np.uint8(255 * heatmap)\n",
        "  heatmap = cv2.applyColorMap(heatmap, cv2.COLORMAP_JET)\n",
        "  superimposed_img = cv2.addWeighted(input_img, 0.5, heatmap, 0.5, 0)\n",
        "  from google.colab.patches import cv2_imshow\n",
        "  \n",
        "  print('Input Dimensions - Image : ',input_img.shape)\n",
        "  cv2_imshow(input_img)\n",
        "  print('Input Dimensions - Superimposed : ',superimposed_img.shape)\n",
        "  cv2_imshow(superimposed_img)\n",
        "\n",
        "  scale_percent = 220 # percent of original size\n",
        "  width = int(input_img.shape[1] * scale_percent / 100)\n",
        "  height = int(input_img.shape[0] * scale_percent / 100)\n",
        "  dim = (width, height)\n",
        "  # resize image\n",
        "  resized = cv2.resize(input_img, dim, interpolation = cv2.INTER_AREA)\n",
        "  print('Resized Dimensions : ',resized.shape)\n",
        "  cv2_imshow(resized)\n",
        "  resized1 = cv2.resize(superimposed_img, dim, interpolation = cv2.INTER_AREA)\n",
        "  print('Resized Dimensions : ',resized1.shape)\n",
        "  cv2_imshow(resized1)\n",
        "\n",
        "for item in itemlist:\n",
        "  print(item)\n",
        "  GetImg(itemlist[item])"
      ],
      "execution_count": 37,
      "outputs": [
        {
          "output_type": "stream",
          "text": [
            "{'airplane': 'http://www.boeing.com/resources/boeingdotcom/defense/air-force-one/air_force_one_visindex6_300x215.jpg', 'automobile': 'https://upload.wikimedia.org/wikipedia/commons/thumb/a/ac/Automobile_Peugeot_Paris_%28223720747%29.jpeg/1200px-Automobile_Peugeot_Paris_%28223720747%29.jpeg', 'dog': 'https://upload.wikimedia.org/wikipedia/commons/b/bc/Owczarek_francuski_beauceron_009pl.jpg', 'frog': 'https://upload.wikimedia.org/wikipedia/commons/c/cb/Groene_kikker_achter_Bekaert-draad.jpg', 'ship': 'https://upload.wikimedia.org/wikipedia/commons/thumb/9/93/ShipNorway.JPG/1280px-ShipNorway.JPG', 'bird': 'https://upload.wikimedia.org/wikipedia/commons/9/9d/Bird_in_flight_wings_spread.jpg', 'cat': 'https://upload.wikimedia.org/wikipedia/commons/a/a3/June_odd-eyed-cat.jpg', 'deer': 'https://upload.wikimedia.org/wikipedia/commons/2/2f/MAGIC_DEER.JPG', 'horse': 'https://upload.wikimedia.org/wikipedia/commons/3/36/AngloKabardiner2.jpg'}\n",
            "airplane\n",
            "0\n",
            "(?, 8, 8, 1024)\n",
            "(1024,)\n",
            "(8, 8, 1024)\n",
            "(8, 8)\n",
            "Input Dimensions - Image :  (32, 32, 3)\n"
          ],
          "name": "stdout"
        },
        {
          "output_type": "display_data",
          "data": {
            "image/png": "[encoded data removed]",
            "text/plain": [
              "<PIL.Image.Image image mode=RGB size=32x32 at 0x7F4F286A84E0>"
            ]
          },
          "metadata": {
            "tags": []
          }
        },
        {
          "output_type": "stream",
          "text": [
            "Input Dimensions - Superimposed :  (32, 32, 3)\n"
          ],
          "name": "stdout"
        },
        {
          "output_type": "display_data",
          "data": {
            "image/png": "[encoded data removed]",
            "text/plain": [
              "<PIL.Image.Image image mode=RGB size=32x32 at 0x7F4F286A8358>"
            ]
          },
          "metadata": {
            "tags": []
          }
        },
        {
          "output_type": "stream",
          "text": [
            "Resized Dimensions :  (70, 70, 3)\n"
          ],
          "name": "stdout"
        },
        {
          "output_type": "display_data",
          "data": {
            "image/png": "[encoded data removed]",
            "text/plain": [
              "<PIL.Image.Image image mode=RGB size=70x70 at 0x7F4F286A1E10>"
            ]
          },
          "metadata": {
            "tags": []
          }
        },
        {
          "output_type": "stream",
          "text": [
            "Resized Dimensions :  (70, 70, 3)\n"
          ],
          "name": "stdout"
        },
        {
          "output_type": "display_data",
          "data": {
            "image/png": "[encoded data removed]",
            "text/plain": [
              "<PIL.Image.Image image mode=RGB size=70x70 at 0x7F4F286A1E48>"
            ]
          },
          "metadata": {
            "tags": []
          }
        },
        {
          "output_type": "stream",
          "text": [
            "automobile\n",
            "0\n",
            "(?, 8, 8, 1024)\n",
            "(1024,)\n",
            "(8, 8, 1024)\n",
            "(8, 8)\n",
            "Input Dimensions - Image :  (32, 32, 3)\n"
          ],
          "name": "stdout"
        },
        {
          "output_type": "display_data",
          "data": {
            "image/png": "[encoded data removed]",
            "text/plain": [
              "<PIL.Image.Image image mode=RGB size=32x32 at 0x7F4F28651CC0>"
            ]
          },
          "metadata": {
            "tags": []
          }
        },
        {
          "output_type": "stream",
          "text": [
            "Input Dimensions - Superimposed :  (32, 32, 3)\n"
          ],
          "name": "stdout"
        },
        {
          "output_type": "display_data",
          "data": {
            "image/png": "[encoded data removed]",
            "text/plain": [
              "<PIL.Image.Image image mode=RGB size=32x32 at 0x7F4F28651E10>"
            ]
          },
          "metadata": {
            "tags": []
          }
        },
        {
          "output_type": "stream",
          "text": [
            "Resized Dimensions :  (70, 70, 3)\n"
          ],
          "name": "stdout"
        },
        {
          "output_type": "display_data",
          "data": {
            "image/png": "[encoded data removed]",
            "text/plain": [
              "<PIL.Image.Image image mode=RGB size=70x70 at 0x7F4F286AF198>"
            ]
          },
          "metadata": {
            "tags": []
          }
        },
        {
          "output_type": "stream",
          "text": [
            "Resized Dimensions :  (70, 70, 3)\n"
          ],
          "name": "stdout"
        },
        {
          "output_type": "display_data",
          "data": {
            "image/png": "[encoded data removed]",
            "text/plain": [
              "<PIL.Image.Image image mode=RGB size=70x70 at 0x7F4F286AF1D0>"
            ]
          },
          "metadata": {
            "tags": []
          }
        },
        {
          "output_type": "stream",
          "text": [
            "dog\n",
            "0\n",
            "(?, 8, 8, 1024)\n",
            "(1024,)\n",
            "(8, 8, 1024)\n",
            "(8, 8)\n",
            "Input Dimensions - Image :  (32, 32, 3)\n"
          ],
          "name": "stdout"
        },
        {
          "output_type": "display_data",
          "data": {
            "image/png": "[encoded data removed]",
            "text/plain": [
              "<PIL.Image.Image image mode=RGB size=32x32 at 0x7F4F2867D5F8>"
            ]
          },
          "metadata": {
            "tags": []
          }
        },
        {
          "output_type": "stream",
          "text": [
            "Input Dimensions - Superimposed :  (32, 32, 3)\n"
          ],
          "name": "stdout"
        },
        {
          "output_type": "display_data",
          "data": {
            "image/png": "[encoded data removed]",
            "text/plain": [
              "<PIL.Image.Image image mode=RGB size=32x32 at 0x7F4F2867D4E0>"
            ]
          },
          "metadata": {
            "tags": []
          }
        },
        {
          "output_type": "stream",
          "text": [
            "Resized Dimensions :  (70, 70, 3)\n"
          ],
          "name": "stdout"
        },
        {
          "output_type": "display_data",
          "data": {
            "image/png": "[encoded data removed]",
            "text/plain": [
              "<PIL.Image.Image image mode=RGB size=70x70 at 0x7F4F2867D470>"
            ]
          },
          "metadata": {
            "tags": []
          }
        },
        {
          "output_type": "stream",
          "text": [
            "Resized Dimensions :  (70, 70, 3)\n"
          ],
          "name": "stdout"
        },
        {
          "output_type": "display_data",
          "data": {
            "image/png": "[encoded data removed]",
            "text/plain": [
              "<PIL.Image.Image image mode=RGB size=70x70 at 0x7F4F2867D4E0>"
            ]
          },
          "metadata": {
            "tags": []
          }
        },
        {
          "output_type": "stream",
          "text": [
            "frog\n",
            "0\n",
            "(?, 8, 8, 1024)\n",
            "(1024,)\n",
            "(8, 8, 1024)\n",
            "(8, 8)\n",
            "Input Dimensions - Image :  (32, 32, 3)\n"
          ],
          "name": "stdout"
        },
        {
          "output_type": "display_data",
          "data": {
            "image/png": "[encoded data removed]",
            "text/plain": [
              "<PIL.Image.Image image mode=RGB size=32x32 at 0x7F4F28628EB8>"
            ]
          },
          "metadata": {
            "tags": []
          }
        },
        {
          "output_type": "stream",
          "text": [
            "Input Dimensions - Superimposed :  (32, 32, 3)\n"
          ],
          "name": "stdout"
        },
        {
          "output_type": "display_data",
          "data": {
            "image/png": "[encoded data removed]",
            "text/plain": [
              "<PIL.Image.Image image mode=RGB size=32x32 at 0x7F4F28628DA0>"
            ]
          },
          "metadata": {
            "tags": []
          }
        },
        {
          "output_type": "stream",
          "text": [
            "Resized Dimensions :  (70, 70, 3)\n"
          ],
          "name": "stdout"
        },
        {
          "output_type": "display_data",
          "data": {
            "image/png": "[encoded data removed]",
            "text/plain": [
              "<PIL.Image.Image image mode=RGB size=70x70 at 0x7F4F28628F28>"
            ]
          },
          "metadata": {
            "tags": []
          }
        },
        {
          "output_type": "stream",
          "text": [
            "Resized Dimensions :  (70, 70, 3)\n"
          ],
          "name": "stdout"
        },
        {
          "output_type": "display_data",
          "data": {
            "image/png": "[encoded data removed]",
            "text/plain": [
              "<PIL.Image.Image image mode=RGB size=70x70 at 0x7F4F28628F98>"
            ]
          },
          "metadata": {
            "tags": []
          }
        },
        {
          "output_type": "stream",
          "text": [
            "ship\n",
            "0\n",
            "(?, 8, 8, 1024)\n",
            "(1024,)\n",
            "(8, 8, 1024)\n",
            "(8, 8)\n",
            "Input Dimensions - Image :  (32, 32, 3)\n"
          ],
          "name": "stdout"
        },
        {
          "output_type": "display_data",
          "data": {
            "image/png": "[encoded data removed]",
            "text/plain": [
              "<PIL.Image.Image image mode=RGB size=32x32 at 0x7F4F285D9780>"
            ]
          },
          "metadata": {
            "tags": []
          }
        },
        {
          "output_type": "stream",
          "text": [
            "Input Dimensions - Superimposed :  (32, 32, 3)\n"
          ],
          "name": "stdout"
        },
        {
          "output_type": "display_data",
          "data": {
            "image/png": "[encoded data removed]",
            "text/plain": [
              "<PIL.Image.Image image mode=RGB size=32x32 at 0x7F4F285D9668>"
            ]
          },
          "metadata": {
            "tags": []
          }
        },
        {
          "output_type": "stream",
          "text": [
            "Resized Dimensions :  (70, 70, 3)\n"
          ],
          "name": "stdout"
        },
        {
          "output_type": "display_data",
          "data": {
            "image/png": "[encoded data removed]",
            "text/plain": [
              "<PIL.Image.Image image mode=RGB size=70x70 at 0x7F4F285D99E8>"
            ]
          },
          "metadata": {
            "tags": []
          }
        },
        {
          "output_type": "stream",
          "text": [
            "Resized Dimensions :  (70, 70, 3)\n"
          ],
          "name": "stdout"
        },
        {
          "output_type": "display_data",
          "data": {
            "image/png": "[encoded data removed]",
            "text/plain": [
              "<PIL.Image.Image image mode=RGB size=70x70 at 0x7F4F28621E48>"
            ]
          },
          "metadata": {
            "tags": []
          }
        },
        {
          "output_type": "stream",
          "text": [
            "bird\n",
            "3\n",
            "(?, 8, 8, 1024)\n",
            "(1024,)\n",
            "(8, 8, 1024)\n",
            "(8, 8)\n",
            "Input Dimensions - Image :  (32, 32, 3)\n"
          ],
          "name": "stdout"
        },
        {
          "output_type": "display_data",
          "data": {
            "image/png": "[encoded data removed]",
            "text/plain": [
              "<PIL.Image.Image image mode=RGB size=32x32 at 0x7F4F28584860>"
            ]
          },
          "metadata": {
            "tags": []
          }
        },
        {
          "output_type": "stream",
          "text": [
            "Input Dimensions - Superimposed :  (32, 32, 3)\n"
          ],
          "name": "stdout"
        },
        {
          "output_type": "display_data",
          "data": {
            "image/png": "[encoded data removed]",
            "text/plain": [
              "<PIL.Image.Image image mode=RGB size=32x32 at 0x7F4F285DFC18>"
            ]
          },
          "metadata": {
            "tags": []
          }
        },
        {
          "output_type": "stream",
          "text": [
            "Resized Dimensions :  (70, 70, 3)\n"
          ],
          "name": "stdout"
        },
        {
          "output_type": "display_data",
          "data": {
            "image/png": "[encoded data removed]",
            "text/plain": [
              "<PIL.Image.Image image mode=RGB size=70x70 at 0x7F4F285DFCF8>"
            ]
          },
          "metadata": {
            "tags": []
          }
        },
        {
          "output_type": "stream",
          "text": [
            "Resized Dimensions :  (70, 70, 3)\n"
          ],
          "name": "stdout"
        },
        {
          "output_type": "display_data",
          "data": {
            "image/png": "[encoded data removed]",
            "text/plain": [
              "<PIL.Image.Image image mode=RGB size=70x70 at 0x7F4F285DFC50>"
            ]
          },
          "metadata": {
            "tags": []
          }
        },
        {
          "output_type": "stream",
          "text": [
            "cat\n",
            "0\n",
            "(?, 8, 8, 1024)\n",
            "(1024,)\n",
            "(8, 8, 1024)\n",
            "(8, 8)\n",
            "Input Dimensions - Image :  (32, 32, 3)\n"
          ],
          "name": "stdout"
        },
        {
          "output_type": "display_data",
          "data": {
            "image/png": "[encoded data removed]",
            "text/plain": [
              "<PIL.Image.Image image mode=RGB size=32x32 at 0x7F4F285AE7B8>"
            ]
          },
          "metadata": {
            "tags": []
          }
        },
        {
          "output_type": "stream",
          "text": [
            "Input Dimensions - Superimposed :  (32, 32, 3)\n"
          ],
          "name": "stdout"
        },
        {
          "output_type": "display_data",
          "data": {
            "image/png": "[encoded data removed]",
            "text/plain": [
              "<PIL.Image.Image image mode=RGB size=32x32 at 0x7F4F285AEF60>"
            ]
          },
          "metadata": {
            "tags": []
          }
        },
        {
          "output_type": "stream",
          "text": [
            "Resized Dimensions :  (70, 70, 3)\n"
          ],
          "name": "stdout"
        },
        {
          "output_type": "display_data",
          "data": {
            "image/png": "[encoded data removed]",
            "text/plain": [
              "<PIL.Image.Image image mode=RGB size=70x70 at 0x7F4F285AEE48>"
            ]
          },
          "metadata": {
            "tags": []
          }
        },
        {
          "output_type": "stream",
          "text": [
            "Resized Dimensions :  (70, 70, 3)\n"
          ],
          "name": "stdout"
        },
        {
          "output_type": "display_data",
          "data": {
            "image/png": "[encoded data removed]",
            "text/plain": [
              "<PIL.Image.Image image mode=RGB size=70x70 at 0x7F4F285AEF98>"
            ]
          },
          "metadata": {
            "tags": []
          }
        },
        {
          "output_type": "stream",
          "text": [
            "deer\n",
            "0\n",
            "(?, 8, 8, 1024)\n",
            "(1024,)\n",
            "(8, 8, 1024)\n",
            "(8, 8)\n",
            "Input Dimensions - Image :  (32, 32, 3)\n"
          ],
          "name": "stdout"
        },
        {
          "output_type": "display_data",
          "data": {
            "image/png": "[encoded data removed]",
            "text/plain": [
              "<PIL.Image.Image image mode=RGB size=32x32 at 0x7F4F2855EE10>"
            ]
          },
          "metadata": {
            "tags": []
          }
        },
        {
          "output_type": "stream",
          "text": [
            "Input Dimensions - Superimposed :  (32, 32, 3)\n"
          ],
          "name": "stdout"
        },
        {
          "output_type": "display_data",
          "data": {
            "image/png": "[encoded data removed]",
            "text/plain": [
              "<PIL.Image.Image image mode=RGB size=32x32 at 0x7F4F2855EEF0>"
            ]
          },
          "metadata": {
            "tags": []
          }
        },
        {
          "output_type": "stream",
          "text": [
            "Resized Dimensions :  (70, 70, 3)\n"
          ],
          "name": "stdout"
        },
        {
          "output_type": "display_data",
          "data": {
            "image/png": "[encoded data removed]",
            "text/plain": [
              "<PIL.Image.Image image mode=RGB size=70x70 at 0x7F4F28559FD0>"
            ]
          },
          "metadata": {
            "tags": []
          }
        },
        {
          "output_type": "stream",
          "text": [
            "Resized Dimensions :  (70, 70, 3)\n"
          ],
          "name": "stdout"
        },
        {
          "output_type": "display_data",
          "data": {
            "image/png": "[encoded data removed]",
            "text/plain": [
              "<PIL.Image.Image image mode=RGB size=70x70 at 0x7F4F285BB3C8>"
            ]
          },
          "metadata": {
            "tags": []
          }
        },
        {
          "output_type": "stream",
          "text": [
            "horse\n",
            "0\n",
            "(?, 8, 8, 1024)\n",
            "(1024,)\n",
            "(8, 8, 1024)\n",
            "(8, 8)\n",
            "Input Dimensions - Image :  (32, 32, 3)\n"
          ],
          "name": "stdout"
        },
        {
          "output_type": "display_data",
          "data": {
            "image/png": "[encoded data removed]",
            "text/plain": [
              "<PIL.Image.Image image mode=RGB size=32x32 at 0x7F4F2850C780>"
            ]
          },
          "metadata": {
            "tags": []
          }
        },
        {
          "output_type": "stream",
          "text": [
            "Input Dimensions - Superimposed :  (32, 32, 3)\n"
          ],
          "name": "stdout"
        },
        {
          "output_type": "display_data",
          "data": {
            "image/png": "[encoded data removed]",
            "text/plain": [
              "<PIL.Image.Image image mode=RGB size=32x32 at 0x7F4F28564BE0>"
            ]
          },
          "metadata": {
            "tags": []
          }
        },
        {
          "output_type": "stream",
          "text": [
            "Resized Dimensions :  (70, 70, 3)\n"
          ],
          "name": "stdout"
        },
        {
          "output_type": "display_data",
          "data": {
            "image/png": "[encoded data removed]",
            "text/plain": [
              "<PIL.Image.Image image mode=RGB size=70x70 at 0x7F4F28564C18>"
            ]
          },
          "metadata": {
            "tags": []
          }
        },
        {
          "output_type": "stream",
          "text": [
            "Resized Dimensions :  (70, 70, 3)\n"
          ],
          "name": "stdout"
        },
        {
          "output_type": "display_data",
          "data": {
            "image/png": "[encoded data removed]",
            "text/plain": [
              "<PIL.Image.Image image mode=RGB size=70x70 at 0x7F4F285641D0>"
            ]
          },
          "metadata": {
            "tags": []
          }
        }
      ]
    },
    {
      "cell_type": "code",
      "metadata": {
        "id": "qpdzUq651l4l",
        "colab_type": "code",
        "colab": {}
      },
      "source": [
        ""
      ],
      "execution_count": 0,
      "outputs": []
    },
    {
      "cell_type": "code",
      "metadata": {
        "id": "MPLGdAq11mSq",
        "colab_type": "code",
        "colab": {}
      },
      "source": [
        ""
      ],
      "execution_count": 0,
      "outputs": []
    }
  ]
}